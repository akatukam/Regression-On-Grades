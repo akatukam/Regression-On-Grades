{
  "nbformat": 4,
  "nbformat_minor": 0,
  "metadata": {
    "colab": {
      "provenance": [],
      "include_colab_link": true
    },
    "kernelspec": {
      "name": "python3",
      "display_name": "Python 3"
    },
    "language_info": {
      "name": "python"
    }
  },
  "cells": [
    {
      "cell_type": "markdown",
      "metadata": {
        "id": "view-in-github",
        "colab_type": "text"
      },
      "source": [
        "<a href=\"https://colab.research.google.com/github/akatukam/Regression-On-Grades/blob/main/RegressionOnGrades.ipynb\" target=\"_parent\"><img src=\"https://colab.research.google.com/assets/colab-badge.svg\" alt=\"Open In Colab\"/></a>"
      ]
    },
    {
      "cell_type": "markdown",
      "source": [
        "We will be analyzing survey data gathered from the last exam. The data is here: https://drive.google.com/file/d/1-0d9sGptmBTbzf4jRGYDE8pWwxz0d-0z/view?usp=sharing"
      ],
      "metadata": {
        "id": "icX_TgUyDu6d"
      }
    },
    {
      "cell_type": "code",
      "source": [
        "import pandas as pd\n",
        "import sklearn\n",
        "from google.colab import drive\n",
        "drive.mount('/content/drive')\n",
        "\n",
        "survey = pd.read_csv('/content/drive/My Drive/MidtermSurvey_Processed.csv')\n",
        "survey = survey.iloc[:, 1:]\n",
        "survey = survey.dropna(how='all')"
      ],
      "metadata": {
        "id": "obj5fo5cEGna",
        "outputId": "f9b99bea-5d92-4379-9dec-3e3451b15d75",
        "colab": {
          "base_uri": "https://localhost:8080/"
        }
      },
      "execution_count": null,
      "outputs": [
        {
          "output_type": "stream",
          "name": "stdout",
          "text": [
            "Drive already mounted at /content/drive; to attempt to forcibly remount, call drive.mount(\"/content/drive\", force_remount=True).\n"
          ]
        }
      ]
    },
    {
      "cell_type": "markdown",
      "source": [
        "Create a column that measures, in minutes, how long each student took for their exam. Print the column at the end."
      ],
      "metadata": {
        "id": "mDHcdeVREHE0"
      }
    },
    {
      "cell_type": "code",
      "source": [
        "import numpy as np\n",
        "\n",
        "survey_time = survey.dropna(subset=['Time'])\n",
        "fixed_time = pd.to_datetime('3:30 PM')\n",
        "survey_time['Time'] = pd.to_datetime(survey_time['Time'], errors='coerce')\n",
        "survey_time = survey_time[survey_time['Time'] >= fixed_time]\n",
        "survey_time['Duration'] = (survey_time['Time'] - fixed_time).dt.total_seconds() / 60\n",
        "survey_time['Duration'] = np.ceil(survey_time['Duration'])\n",
        "print(survey_time['Duration'])"
      ],
      "metadata": {
        "id": "87nz1WAjENxT",
        "colab": {
          "base_uri": "https://localhost:8080/"
        },
        "outputId": "7aada920-b751-413a-f749-ae3ebefd7608"
      },
      "execution_count": null,
      "outputs": [
        {
          "output_type": "stream",
          "name": "stdout",
          "text": [
            "0      75.0\n",
            "1      76.0\n",
            "2      70.0\n",
            "3      75.0\n",
            "4      76.0\n",
            "       ... \n",
            "233    79.0\n",
            "234    75.0\n",
            "235    75.0\n",
            "236    55.0\n",
            "237    60.0\n",
            "Name: Duration, Length: 234, dtype: float64\n"
          ]
        },
        {
          "output_type": "stream",
          "name": "stderr",
          "text": [
            "<ipython-input-107-cfc2ecde24c6>:5: SettingWithCopyWarning: \n",
            "A value is trying to be set on a copy of a slice from a DataFrame.\n",
            "Try using .loc[row_indexer,col_indexer] = value instead\n",
            "\n",
            "See the caveats in the documentation: https://pandas.pydata.org/pandas-docs/stable/user_guide/indexing.html#returning-a-view-versus-a-copy\n",
            "  survey_time['Time'] = pd.to_datetime(survey_time['Time'], errors='coerce')\n"
          ]
        }
      ]
    },
    {
      "cell_type": "markdown",
      "source": [
        "Create a graph, comparing the distributions of the grades of students who thought the exam was fair, kind of fair, or not fair."
      ],
      "metadata": {
        "id": "vn2AxtVKEOFx"
      }
    },
    {
      "cell_type": "code",
      "source": [
        "import matplotlib.pyplot as plt\n",
        "import seaborn as sns\n",
        "\n",
        "yes = survey[survey['Fair'] == 'Yes']['Grade']\n",
        "kinda = survey[survey['Fair'] == 'Kinda']['Grade']\n",
        "no = survey[survey['Fair'] == 'No']['Grade']\n",
        "cols = pd.DataFrame({'Not Fair': no, 'Kinda Fair': kinda, 'Fair': yes})\n",
        "\n",
        "plt.figure(figsize=(8, 6))\n",
        "sns.boxplot(data=cols, palette='colorblind')\n",
        "plt.title('Distribution of Grades based on Percieved Fairness')\n",
        "plt.xlabel('Percieved Fairness')\n",
        "plt.ylabel('Grades')\n",
        "plt.show()"
      ],
      "metadata": {
        "id": "nr3V-hKVEjSg",
        "colab": {
          "base_uri": "https://localhost:8080/",
          "height": 564
        },
        "outputId": "abc944dd-5bde-48e6-bc9f-80c2373da4de"
      },
      "execution_count": null,
      "outputs": [
        {
          "output_type": "display_data",
          "data": {
            "text/plain": [
              "<Figure size 800x600 with 1 Axes>"
            ],
            "image/png": "[encoded data removed]"
          },
          "metadata": {}
        }
      ]
    },
    {
      "cell_type": "markdown",
      "source": [
        "Do a hypothesis test to see if the distributions of student's grades for those of whom thought the exam was fair, kinda fair, or unfair have a stastically significant difference in mean. Print your p-value."
      ],
      "metadata": {
        "id": "25iHak3TEjtq"
      }
    },
    {
      "cell_type": "code",
      "source": [
        "from scipy.stats import f_oneway\n",
        "\n",
        "# ANOVA test\n",
        "f_statistic, p_value = f_oneway(no, kinda, yes)\n",
        "print(f\"P-value: {p_value}\")"
      ],
      "metadata": {
        "id": "os32VHpnE4ol",
        "colab": {
          "base_uri": "https://localhost:8080/"
        },
        "outputId": "dc07f8b5-e6bd-4056-9883-3ed1bea054c6"
      },
      "execution_count": null,
      "outputs": [
        {
          "output_type": "stream",
          "name": "stdout",
          "text": [
            "P-value: 0.8389966340907092\n"
          ]
        }
      ]
    },
    {
      "cell_type": "markdown",
      "source": [
        "Does studying more improve your score? Find out, and summarize the results below in text format. If it does not, speculate as to why."
      ],
      "metadata": {
        "id": "0ueYAh3pFdY_"
      }
    },
    {
      "cell_type": "code",
      "source": [
        "correlation = survey['Hours_Studied'].corr(survey['Grade'])\n",
        "print(f\"Correlation between hours studied and grades: {correlation}\")"
      ],
      "metadata": {
        "id": "sgZV3ogeFkDJ",
        "colab": {
          "base_uri": "https://localhost:8080/"
        },
        "outputId": "f938951d-380b-41f0-f67c-c3cb9d499d40"
      },
      "execution_count": null,
      "outputs": [
        {
          "output_type": "stream",
          "name": "stdout",
          "text": [
            "Correlation between hours studied and grades: 0.06286069182995391\n"
          ]
        }
      ]
    },
    {
      "cell_type": "markdown",
      "source": [
        "The correlation is positive but extremely low. This tells us that there is an extremely weak correlation between hours studied and how well a student does on the exam. This can be since the exam was really conceptual and based on applying knowledge learnt in class, student's grades were more affected by their general wit and ability to apply logic and not how long they spent studying the material from class."
      ],
      "metadata": {
        "id": "DLcor2xRFiVq"
      }
    },
    {
      "cell_type": "markdown",
      "source": [
        "Make another graph based on a question you think might be interesting."
      ],
      "metadata": {
        "id": "O0A92bjKE5Fa"
      }
    },
    {
      "cell_type": "code",
      "source": [
        "# Comparing the distributions of how many hours a student slept and whether\n",
        "# they studied with a friend.\n",
        "\n",
        "have_friend = survey[survey['Friend'] == 'Yes']['Sleep']\n",
        "kinda_friend = survey[survey['Friend'] == 'Kinda']['Sleep']\n",
        "no_friend = survey[survey['Friend'] == 'No']['Sleep']\n",
        "cols2 = pd.DataFrame({'No Friend': no_friend, 'Kinda Friend': kinda_friend, 'Friend': have_friend})\n",
        "\n",
        "plt.figure(figsize=(8, 6))\n",
        "sns.boxplot(data=cols2, palette='colorblind')\n",
        "plt.title('Relationship Between Studying w Friend and Sleep')\n",
        "plt.xlabel('Whether They Studied With a Friend')\n",
        "plt.ylabel('Hours Slept')\n",
        "plt.show()"
      ],
      "metadata": {
        "id": "lYIdPf5xFBbZ",
        "colab": {
          "base_uri": "https://localhost:8080/",
          "height": 564
        },
        "outputId": "cc916037-f3ab-4a30-8bf1-dc9961f6b8c1"
      },
      "execution_count": null,
      "outputs": [
        {
          "output_type": "display_data",
          "data": {
            "text/plain": [
              "<Figure size 800x600 with 1 Axes>"
            ],
            "image/png": "[encoded data removed]"
          },
          "metadata": {}
        }
      ]
    },
    {
      "cell_type": "markdown",
      "source": [
        "Do a hypothesis test on something you think is interesting."
      ],
      "metadata": {
        "id": "m5VHxwI5Jl8i"
      }
    },
    {
      "cell_type": "code",
      "source": [
        "# A hypothesis test to see if the distributions of student's sleep for\n",
        "# those of whom studied with friends, kinda studied with friends, or didn't\n",
        "# study with friends have a stastically significant difference in mean. I\n",
        "# wonder if whether students study with friends affects the amount of sleep they\n",
        "# get.\n",
        "\n",
        "from scipy.stats import f_oneway\n",
        "\n",
        "# ANOVA test\n",
        "f_statistic, p_value = f_oneway(no_friend, kinda_friend, have_friend)\n",
        "print(f\"P-value: {p_value}\")\n",
        "\n",
        "# There appears to be no statistically significant correlation between whether\n",
        "# a student studied with friends and how much sleep they got."
      ],
      "metadata": {
        "id": "yOh7gO2FJpCB",
        "colab": {
          "base_uri": "https://localhost:8080/"
        },
        "outputId": "548a557a-5236-447e-aab1-6b5ca3b7938b"
      },
      "execution_count": null,
      "outputs": [
        {
          "output_type": "stream",
          "name": "stdout",
          "text": [
            "P-value: 0.02653595497284769\n"
          ]
        }
      ]
    },
    {
      "cell_type": "markdown",
      "source": [
        "Write code that trains a regression algorithm over the data, predicting grade. You may not use the \"mystery\" column, but you may use all other columns. You must get an R^2 value > .09."
      ],
      "metadata": {
        "id": "XPKkUx1UFCFS"
      }
    },
    {
      "cell_type": "code",
      "source": [
        "import sklearn.model_selection\n",
        "import sklearn.ensemble\n",
        "import sklearn.metrics\n",
        "\n",
        "categ_cols = ['Fair', 'Lectures', 'Assignments', 'XP', 'Class']\n",
        "categ_data = survey[categ_cols]\n",
        "encoded_data = pd.get_dummies(categ_data, columns=categ_cols)\n",
        "all_fields = pd.concat([encoded_data, survey[['Hours_Studied', 'Sleep']]], axis=1)\n",
        "target = survey['Grade']\n",
        "\n",
        "X_train, X_test, y_train, y_test = sklearn.model_selection.train_test_split(all_fields, target, test_size=0.2, random_state=0)\n",
        "model = sklearn.ensemble.RandomForestRegressor(n_estimators=100, random_state=0)\n",
        "model.fit(X_train, y_train)\n",
        "predictions = model.predict(X_test)\n",
        "\n",
        "print(f\"R-squared value:\", sklearn.metrics.r2_score(y_test, predictions))"
      ],
      "metadata": {
        "id": "hzQ3iPZyFww8",
        "colab": {
          "base_uri": "https://localhost:8080/"
        },
        "outputId": "4ce9c874-e631-4edf-ecb1-606775ac6e18"
      },
      "execution_count": null,
      "outputs": [
        {
          "output_type": "stream",
          "name": "stdout",
          "text": [
            "R-squared value: 0.12205794477051446\n"
          ]
        }
      ]
    },
    {
      "cell_type": "markdown",
      "source": [
        "Is your model any good? What does its performance tell you about the input variables' relationship to your grade?"
      ],
      "metadata": {
        "id": "Ax4ViMC1FxCY"
      }
    },
    {
      "cell_type": "markdown",
      "source": [
        "An R-squared value of 0.122 tells us that the model explains around 12.2% of the variance in the target variable, Grade. This is pretty low, so my model is not that great. The R-squared value tells us that perhaps the included features influence a student's grade, but other factors probably influence a student's grade far more. I've tried several other regression models but found better r-squared values with this one. Also, removing any of the features I included reduced my r-squared value, so I do think they impact a student's grade and should be included."
      ],
      "metadata": {
        "id": "2_AwKBkJF54e"
      }
    },
    {
      "cell_type": "markdown",
      "source": [
        "Execute the same code with the addition of the mystery column. You must get an R^2 higher than .7. Print your R^2 value."
      ],
      "metadata": {
        "id": "grijV8YAF7Dz"
      }
    },
    {
      "cell_type": "code",
      "source": [
        "import sklearn.model_selection\n",
        "import sklearn.ensemble\n",
        "import sklearn.metrics\n",
        "\n",
        "categ_cols = ['Friend', 'Fair', 'Lectures', 'Assignments', 'XP', 'Class']\n",
        "categ_data = survey[categ_cols]\n",
        "encoded_data = pd.get_dummies(categ_data, columns=categ_cols)\n",
        "all_fields = pd.concat([encoded_data, survey[['Hours_Studied', 'Sleep', 'Mystery']]], axis=1)\n",
        "target = survey['Grade']\n",
        "\n",
        "X_train, X_test, y_train, y_test = sklearn.model_selection.train_test_split(all_fields, target, test_size=0.2, random_state=0)\n",
        "model = sklearn.ensemble.RandomForestRegressor(n_estimators=100, random_state=0)\n",
        "model.fit(X_train, y_train)\n",
        "predictions = model.predict(X_test)\n",
        "\n",
        "print(f\"R-squared value:\", sklearn.metrics.r2_score(y_test, predictions))"
      ],
      "metadata": {
        "id": "QGDonMG6GEgU",
        "colab": {
          "base_uri": "https://localhost:8080/"
        },
        "outputId": "ad229585-beca-4428-dea3-65a7c2e44522"
      },
      "execution_count": null,
      "outputs": [
        {
          "output_type": "stream",
          "name": "stdout",
          "text": [
            "R-squared value: 0.8515097575467153\n"
          ]
        }
      ]
    },
    {
      "cell_type": "markdown",
      "source": [
        "What is the mystery column, and why did it boost your model's accuracy so much?"
      ],
      "metadata": {
        "id": "zzHdAhCiGEv7"
      }
    },
    {
      "cell_type": "markdown",
      "source": [
        "I think the mystery column is half of the student's score on the previous exam. This would explain why it does such a good job at estimating performance on the second exam. There would likely be some pattern between how students perform on one exam compared to the next."
      ],
      "metadata": {
        "id": "QZTfduealfh2"
      }
    }
  ]
}